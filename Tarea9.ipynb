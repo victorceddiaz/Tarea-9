{
  "nbformat": 4,
  "nbformat_minor": 0,
  "metadata": {
    "colab": {
      "name": "Tarea9.ipynb",
      "provenance": [],
      "collapsed_sections": [],
      "authorship_tag": "ABX9TyNqpj8YI/17RKF4xQWyr3Bz",
      "include_colab_link": true
    },
    "kernelspec": {
      "name": "python3",
      "display_name": "Python 3"
    },
    "language_info": {
      "name": "python"
    }
  },
  "cells": [
    {
      "cell_type": "markdown",
      "metadata": {
        "id": "view-in-github",
        "colab_type": "text"
      },
      "source": [
        "<a href=\"https://colab.research.google.com/github/victorceddiaz/Tarea-9/blob/main/Tarea9.ipynb\" target=\"_parent\"><img src=\"https://colab.research.google.com/assets/colab-badge.svg\" alt=\"Open In Colab\"/></a>"
      ]
    },
    {
      "cell_type": "markdown",
      "metadata": {
        "id": "X2rzbMV2z6Pl"
      },
      "source": [
        "#Tarea 9.\n",
        "\n",
        "Alumno: Cedillo Díaz Victor Antonio\n",
        "\n",
        "Grupo: 1310"
      ]
    },
    {
      "cell_type": "code",
      "metadata": {
        "id": "Q5beHsMbzzCc"
      },
      "source": [
        "class StackADT :\n",
        "    def __init__(self) :\n",
        "        self.__data = list()\n",
        "\n",
        "    def is_empty(self) :\n",
        "        return len(self.__data) == 0\n",
        "    \n",
        "    def get_length(self) :\n",
        "        return len(self.__data)\n",
        "\n",
        "    def pop(self) :\n",
        "        if self.is_empty() :\n",
        "            print(\"Pila vacía, nada que sacar\")\n",
        "        else :\n",
        "            return self.__data.pop()\n",
        "\n",
        "    def peek(self) :\n",
        "        if self.is_empty() :\n",
        "            print(\"Pila vacía, nada que sacar\")\n",
        "        else :\n",
        "            return self.__data[-1]\n",
        "    \n",
        "    def push(self, value) :\n",
        "        self.__data.append(value)\n",
        "\n",
        "    def to_string(self) :\n",
        "        for item in self.__data[::-1] :\n",
        "            print(f'| { item } |')"
      ],
      "execution_count": 1,
      "outputs": []
    },
    {
      "cell_type": "code",
      "metadata": {
        "colab": {
          "base_uri": "https://localhost:8080/"
        },
        "id": "ScO5cFBY0Ns9",
        "outputId": "c1cf9cbd-9c4d-4abc-8e11-ea34fbd2344a"
      },
      "source": [
        "# Para este código se uso el archivo visto en clase, en la siguiente línea se incluye un link de GitHub para descargar el archivo\n",
        "# https://github.com/victorceddiaz/Tarea-9/blob/main/prog.txt\n",
        "entrada= open('prog.txt', 'rt')\n",
        "codigo = entrada.read()\n",
        "pilaControl=StackADT()\n",
        "pilaControl.push(\"#\") #Caracter de pila vacía\n",
        "\n",
        "for letra in codigo :\n",
        "    if letra == '{' :\n",
        "        pilaControl.push('{')  # regla 1\n",
        "    elif letra == '}' :\n",
        "        if pilaControl.peek() == '#' :\n",
        "            pilaControl.push('{')\n",
        "            break \n",
        "        else :\n",
        "            basura = pilaControl.pop() # regla 2\n",
        "    elif letra == '(' :\n",
        "        pilaControl.push('(') # regla 1\n",
        "    elif letra == ')' :\n",
        "        if pilaControl.peek() == '#' :\n",
        "            pilaControl.push('(')\n",
        "            break \n",
        "        else :\n",
        "            basura = pilaControl.pop() # regla 2\n",
        "    else :\n",
        "        pass\n",
        " \n",
        "if pilaControl.peek() == '#' :\n",
        "    print(\"El código proporcionado esta correctamente balanceado.\")\n",
        "else :\n",
        "    print(\"El código no esta balanceado en paréntesis ( y ) o en llaves { y }.\")"
      ],
      "execution_count": 151,
      "outputs": [
        {
          "output_type": "stream",
          "name": "stdout",
          "text": [
            "El código proporcionado esta correctamente balanceado.\n"
          ]
        }
      ]
    }
  ]
}